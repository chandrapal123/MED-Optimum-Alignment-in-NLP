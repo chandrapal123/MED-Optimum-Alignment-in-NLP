{
 "cells": [
  {
   "cell_type": "code",
   "execution_count": 71,
   "metadata": {},
   "outputs": [],
   "source": [
    "def med(s1,s2):\n",
    "  n=len(s1)\n",
    "  m=len(s2)\n",
    "  M=[[0 for i in range(n+1)]for j in range(m+1)]\n",
    "  M[0][0]=0\n",
    "  for i in range(1,n):\n",
    "    M[i][0]=M[i-1][0]+1\n",
    "  for j in range(1,m):\n",
    "    M[0][j]=M[0][j-1]+1\n",
    "  for i in range(1,n):\n",
    "    for j in range(1,m):\n",
    "        M[i][j]=min((M[i-1][j]+1),(M[i-1][j-1]+1),(M[i][j-1]+1))\n",
    "  return M[n-1][m-1]\n"
   ]
  },
  {
   "cell_type": "code",
   "execution_count": 80,
   "metadata": {},
   "outputs": [
    {
     "name": "stdout",
     "output_type": "stream",
     "text": [
      "8\n"
     ]
    }
   ],
   "source": [
    "s1=\"deletion\"\n",
    "s2=\"insertion\"\n",
    "z=med(s1,s2)\n",
    "print(z)"
   ]
  },
  {
   "cell_type": "code",
   "execution_count": 179,
   "metadata": {},
   "outputs": [],
   "source": [
    "allPaths = [] \n",
    "def findPaths(maze,m,n,s11,s22): \n",
    "    path = [0 for d in range(m+n-1)] \n",
    "    p1=[0 for d in range(m+n-1)] \n",
    "    p2=[0 for d in range(m+n-1)] \n",
    "    f1,f2=0,0\n",
    "    findPathsUtil(maze,m,n,0,0,path,0,p1,p2,s11,s22,f1,f2) \n",
    "      \n",
    "def findPathsUtil(maze,m,n,i,j,path,indx,p1,p2,s11,s22,f1,f2): \n",
    "    global allPaths \n",
    "    if i==m-1: \n",
    "        for k in range(j,n): \n",
    "            path[indx+k-j] = maze[i][k]\n",
    "            p1[indx+k-j]=s11[i]\n",
    "            p2[indx+k-j]=s22[k]\n",
    "        print(path) \n",
    "        print(p1[::-1])\n",
    "        print(p2[::-1])\n",
    "        allPaths.append(path) \n",
    "        return\n",
    "    if j == n-1: \n",
    "        for k in range(i,m): \n",
    "            path[indx+k-i] = maze[k][j] \n",
    "            p1[indx+k-j]=s11[k]\n",
    "            p2[indx+k-j]=s22[j]\n",
    "        print(path)\n",
    "        print(p1[::-1])\n",
    "        print(p2[::-1])\n",
    "        allPaths.append(path) \n",
    "        return\n",
    "      \n",
    "\n",
    "    path[indx] = maze[i][j] \n",
    "    if(f1==1 and f2==0):\n",
    "      p1[indx]=s11[i]\n",
    "      p2[indx]=' '  \n",
    "    elif(f1==0 and f2==1):\n",
    "      p1[indx]=' '\n",
    "      p2[indx]=s22[j]\n",
    "    else:\n",
    "      p1[indx]=s11[i]\n",
    "      p2[indx]=s22[j]\n",
    "      \n",
    "    if(maze[i][j]+2==maze[i+1][j]):\n",
    "      findPathsUtil(maze, m, n, i+1, j, path, indx+1,p1,p2,s11,s22,1,0) \n",
    "    if(maze[i][j]+2==maze[i][j+1]):\n",
    "      findPathsUtil(maze, m, n, i, j+1, path, indx+1,p1,p2,s11,s22,0,1) \n",
    "    if(s1[i]!=s2[j]):\n",
    "        if(maze[i][j]+1==maze[i+1][j+1]):\n",
    "           findPathsUtil(maze, m, n, i+1, j+1, path, indx+1,p1,p2,s11,s22,1,1) \n",
    "    else:\n",
    "       if(maze[i][j]-1==maze[i+1][j+1]):\n",
    "           findPathsUtil(maze, m, n, i+1, j+1, path, indx+1,p1,p2,s11,s22,1,1)\n"
   ]
  },
  {
   "cell_type": "code",
   "execution_count": 180,
   "metadata": {},
   "outputs": [],
   "source": [
    "import numpy as np\n",
    "def opt_alignment(s1,s2):\n",
    "  n=len(s1)\n",
    "  m=len(s2)\n",
    "  gap=-2\n",
    "  match=1\n",
    "  mismatch=-1\n",
    "  s11=' '+s1\n",
    "  s22=' '+s2\n",
    "  M=[[0 for i in range(m+1)]for j in range(n+1)]\n",
    "  M[0][0]=0\n",
    "  for i in range(1,n+1):\n",
    "    M[i][0]=M[i-1][0]+gap\n",
    "  for j in range(1,m+1):\n",
    "    M[0][j]=M[0][j-1]+gap\n",
    "  for i in range(1,n+1):\n",
    "    for j in range(1,m+1):\n",
    "          if(s11[i]==s22[j]):\n",
    "            M[i][j]=max((M[i-1][j]+gap),(M[i][j-1]+gap),(M[i-1][j-1]+match))\n",
    "          else:\n",
    "            M[i][j]=max((M[i-1][j]+gap),(M[i][j-1]+gap),(M[i-1][j-1]+mismatch))\n",
    "  print(M)\n",
    "  z=M[n][m]\n",
    "  dp=[[0 for i in range(m+1)]for j in range(n+1)]\n",
    "  j=0\n",
    "  for i in range(n,-1,-1):\n",
    "       z1=M[i]\n",
    "       z1.reverse()\n",
    "       dp[j]=z1\n",
    "       j=j+1\n",
    "  print(dp)\n",
    "  s11=s11[::-1]\n",
    "  s22=s22[::-1]\n",
    "  findPaths(dp, n, m,s11,s22) \n",
    "  return z\n",
    "  "
   ]
  },
  {
   "cell_type": "code",
   "execution_count": 181,
   "metadata": {},
   "outputs": [
    {
     "name": "stdout",
     "output_type": "stream",
     "text": [
      "[[0, -2, -4, -6, -8], [-2, 1, -1, -3, -5], [-4, -1, 2, 0, -2], [-6, -3, 0, 3, 1], [-8, -5, -2, 1, 2], [-10, -7, -4, -1, 0], [-12, -9, -6, -3, -2], [-14, -11, -8, -5, -2]]\n",
      "[[-2, -5, -8, -11, -14], [-2, -3, -6, -9, -12], [0, -1, -4, -7, -10], [2, 1, -2, -5, -8], [1, 3, 0, -3, -6], [-2, 0, 2, -1, -4], [-5, -3, -1, 1, -2], [-8, -6, -4, -2, 0]]\n",
      "[-2, -3, -1, 1, 3, 2, 1, 0, 0, 0]\n",
      "[0, 0, 0, 'a', 'b', 'c', 'f', 'b', 'c', 'd']\n",
      "[0, 0, 0, 'a', 'b', ' ', ' ', ' ', 'c', 'd']\n",
      "[-2, -3, -4, -2, 0, 2, 1, 0, 0, 0]\n",
      "[0, 0, 0, 'a', 'b', 'c', 'f', 'b', 'c', 'd']\n",
      "[0, 0, 0, 'a', ' ', ' ', ' ', 'b', 'c', 'd']\n",
      "[-2, -3, -4, -5, -3, -1, 1, 0, 0, 0]\n",
      "[0, 0, 0, 'a', 'b', 'c', 'f', 'b', 'c', 'd']\n",
      "[0, 0, 0, 'a', 'a', 'a', 'a', 'b', 'c', 'd']\n",
      "max_score-2\n"
     ]
    }
   ],
   "source": [
    "s1=\"abcfbcd\"\n",
    "s2=\"abcd\"\n",
    "z=opt_alignment(s1,s2)\n",
    "print(\"max_score\"+str(z))"
   ]
  },
  {
   "cell_type": "code",
   "execution_count": null,
   "metadata": {},
   "outputs": [],
   "source": []
  },
  {
   "cell_type": "code",
   "execution_count": null,
   "metadata": {},
   "outputs": [],
   "source": []
  }
 ],
 "metadata": {
  "kernelspec": {
   "display_name": "Python 3",
   "language": "python",
   "name": "python3"
  },
  "language_info": {
   "codemirror_mode": {
    "name": "ipython",
    "version": 3
   },
   "file_extension": ".py",
   "mimetype": "text/x-python",
   "name": "python",
   "nbconvert_exporter": "python",
   "pygments_lexer": "ipython3",
   "version": "3.7.4"
  }
 },
 "nbformat": 4,
 "nbformat_minor": 2
}
